{
 "cells": [
  {
   "cell_type": "markdown",
   "metadata": {},
   "source": [
    "# Requirements"
   ]
  },
  {
   "cell_type": "markdown",
   "metadata": {},
   "source": [
    "- Python 3.6.2 (NOT python 3.7)\n",
    "- Sign up for an Intrinio account at https://intrinio.com/ and obtain an API key. Subscription to the 'US Fundamentals and Stock Prices' subscription (free, trial or paid) is required.\n",
    "\n",
    "Python libaries:\n",
    "- TensorFlow r1.13 \n",
    "- keras\n",
    "- requests\n",
    "- pandas\n",
    "- matplotlib\n",
    "- seaborn"
   ]
  },
  {
   "cell_type": "markdown",
   "metadata": {},
   "source": [
    "# A deep learning price prediction model with TensorFlow"
   ]
  },
  {
   "cell_type": "markdown",
   "metadata": {},
   "source": [
    "## Download the dataset"
   ]
  },
  {
   "cell_type": "code",
   "execution_count": 2,
   "metadata": {},
   "outputs": [],
   "source": [
    "import requests\n",
    "\n",
    "BASE_URL = 'https://api-v2.intrinio.com'\n",
    "\n",
    "# REPLACE YOUR INTRINIO API KEY HERE!\n",
    "INTRINIO_API_KEY = 'Ojc3NjkzOGNmNDMxMGFiZWZiMmMxMmY0Yjk3MTQzYjdh'\n",
    "\n",
    "def query_intrinio(path, **kwargs):   \n",
    "    url = '%s%s'%(BASE_URL, path)\n",
    "    kwargs['api_key'] = INTRINIO_API_KEY\n",
    "    response = requests.get(url, params=kwargs)\n",
    "\n",
    "    status_code = response.status_code\n",
    "    if status_code == 401: \n",
    "        raise Exception('API key is invalid!')\n",
    "    if status_code == 429: \n",
    "        raise Exception('Page limit hit! Try again in 1 minute')\n",
    "    if status_code != 200: \n",
    "        raise Exception('Request failed with status %s'%status_code)\n",
    "\n",
    "    return response.json()"
   ]
  },
  {
   "cell_type": "code",
   "execution_count": 3,
   "metadata": {},
   "outputs": [],
   "source": [
    "import pandas as pd\n",
    "from pandas.io.json import json_normalize\n",
    "\n",
    "def get_technicals(ticker, indicator, **kwargs):    \n",
    "    url_pattern = '/securities/%s/prices/technicals/%s'\n",
    "    path = url_pattern%(ticker, indicator)\n",
    "    json_data = query_intrinio(path, **kwargs)\n",
    "\n",
    "    df = json_normalize(json_data.get('technicals'))    \n",
    "    df['date_time'] = pd.to_datetime(df['date_time'])\n",
    "    df = df.set_index('date_time')\n",
    "    df.index = df.index.rename('date')\n",
    "    return df"
   ]
  },
  {
   "cell_type": "code",
   "execution_count": 4,
   "metadata": {},
   "outputs": [],
   "source": [
    "ticker = 'AAPL'\n",
    "query_params = {'start_date': '2013-01-01', 'end_date': '2018-12-31', 'page_size': 365*6}"
   ]
  },
  {
   "cell_type": "code",
   "execution_count": 51,
   "metadata": {},
   "outputs": [],
   "source": [
    "# Run the following lines at one-minute intervals!"
   ]
  },
  {
   "cell_type": "code",
   "execution_count": null,
   "metadata": {},
   "outputs": [],
   "source": [
    "df_rsi = get_technicals(ticker, 'rsi', **query_params)"
   ]
  },
  {
   "cell_type": "code",
   "execution_count": null,
   "metadata": {},
   "outputs": [],
   "source": [
    "df_wr = get_technicals(ticker, 'wr', **query_params)"
   ]
  },
  {
   "cell_type": "code",
   "execution_count": 9,
   "metadata": {},
   "outputs": [],
   "source": [
    "df_vwap = get_technicals(ticker, 'vwap', **query_params)"
   ]
  },
  {
   "cell_type": "code",
   "execution_count": 10,
   "metadata": {},
   "outputs": [],
   "source": [
    "df_adtv = get_technicals(ticker, 'adtv', **query_params)"
   ]
  },
  {
   "cell_type": "code",
   "execution_count": 11,
   "metadata": {},
   "outputs": [],
   "source": [
    "df_ao = get_technicals(ticker, 'ao', **query_params)"
   ]
  },
  {
   "cell_type": "code",
   "execution_count": 12,
   "metadata": {},
   "outputs": [],
   "source": [
    "df_sma_5d = get_technicals(ticker, 'sma', period=5, **query_params)\n",
    "df_sma_5d = df_sma_5d.rename(columns={'sma':'sma_5d'})"
   ]
  },
  {
   "cell_type": "code",
   "execution_count": 13,
   "metadata": {},
   "outputs": [],
   "source": [
    "df_sma_15d = get_technicals(ticker, 'sma', period=15, **query_params)\n",
    "df_sma_15d = df_sma_15d.rename(columns={'sma':'sma_15d'})"
   ]
  },
  {
   "cell_type": "code",
   "execution_count": 14,
   "metadata": {},
   "outputs": [],
   "source": [
    "df_sma_30d = get_technicals(ticker, 'sma', period=30, **query_params)\n",
    "df_sma_30d = df_sma_30d.rename(columns={'sma':'sma_30d'})"
   ]
  },
  {
   "cell_type": "code",
   "execution_count": 15,
   "metadata": {},
   "outputs": [],
   "source": [
    "# Wait one minute before calling get_prices()."
   ]
  },
  {
   "cell_type": "code",
   "execution_count": 16,
   "metadata": {},
   "outputs": [],
   "source": [
    "def get_prices(ticker, tag, **params):\n",
    "    url_pattern = '/securities/%s/historical_data/%s'\n",
    "    path = url_pattern%(ticker, tag)\n",
    "    json_data = query_intrinio(path, **params)\n",
    "\n",
    "    df = json_normalize(json_data.get('historical_data'))    \n",
    "    df['date'] = pd.to_datetime(df['date'])\n",
    "    df = df.set_index('date')\n",
    "    df.index = df.index.rename('date')\n",
    "    return df.rename(columns={'value':tag})"
   ]
  },
  {
   "cell_type": "code",
   "execution_count": 17,
   "metadata": {},
   "outputs": [],
   "source": [
    "df_close = get_prices(ticker, 'adj_close_price', **query_params)"
   ]
  },
  {
   "cell_type": "code",
   "execution_count": 18,
   "metadata": {},
   "outputs": [],
   "source": [
    "df_target = df_close.shift(1).dropna()"
   ]
  },
  {
   "cell_type": "code",
   "execution_count": null,
   "metadata": {},
   "outputs": [],
   "source": [
    "df = df_rsi.join(df_wr).join(df_vwap).join(df_adtv)\\\n",
    "    .join(df_ao).join(df_sma_5d).join(df_sma_15d)\\\n",
    "    .join(df_sma_30d).join(df_target).dropna()"
   ]
  },
  {
   "cell_type": "code",
   "execution_count": 20,
   "metadata": {},
   "outputs": [
    {
     "data": {
      "text/html": [
       "<div>\n",
       "<style scoped>\n",
       "    .dataframe tbody tr th:only-of-type {\n",
       "        vertical-align: middle;\n",
       "    }\n",
       "\n",
       "    .dataframe tbody tr th {\n",
       "        vertical-align: top;\n",
       "    }\n",
       "\n",
       "    .dataframe thead th {\n",
       "        text-align: right;\n",
       "    }\n",
       "</style>\n",
       "<table border=\"1\" class=\"dataframe\">\n",
       "  <thead>\n",
       "    <tr style=\"text-align: right;\">\n",
       "      <th></th>\n",
       "      <th>rsi</th>\n",
       "      <th>wr</th>\n",
       "      <th>vwap</th>\n",
       "      <th>adtv</th>\n",
       "      <th>ao</th>\n",
       "      <th>sma_5d</th>\n",
       "      <th>sma_15d</th>\n",
       "      <th>sma_30d</th>\n",
       "      <th>adj_close_price</th>\n",
       "    </tr>\n",
       "    <tr>\n",
       "      <th>date</th>\n",
       "      <th></th>\n",
       "      <th></th>\n",
       "      <th></th>\n",
       "      <th></th>\n",
       "      <th></th>\n",
       "      <th></th>\n",
       "      <th></th>\n",
       "      <th></th>\n",
       "      <th></th>\n",
       "    </tr>\n",
       "  </thead>\n",
       "  <tbody>\n",
       "    <tr>\n",
       "      <th>2018-12-28</th>\n",
       "      <td>35.88289</td>\n",
       "      <td>-62.894534</td>\n",
       "      <td>216.376505</td>\n",
       "      <td>4.693932e+07</td>\n",
       "      <td>-21.924007</td>\n",
       "      <td>153.422</td>\n",
       "      <td>161.806</td>\n",
       "      <td>171.163333</td>\n",
       "      <td>157.066371</td>\n",
       "    </tr>\n",
       "  </tbody>\n",
       "</table>\n",
       "</div>"
      ],
      "text/plain": [
       "                 rsi         wr        vwap          adtv         ao   sma_5d  \\\n",
       "date                                                                            \n",
       "2018-12-28  35.88289 -62.894534  216.376505  4.693932e+07 -21.924007  153.422   \n",
       "\n",
       "            sma_15d     sma_30d  adj_close_price  \n",
       "date                                              \n",
       "2018-12-28  161.806  171.163333       157.066371  "
      ]
     },
     "execution_count": 20,
     "metadata": {},
     "output_type": "execute_result"
    }
   ],
   "source": [
    "df.head(1)"
   ]
  },
  {
   "cell_type": "markdown",
   "metadata": {},
   "source": [
    "## Workaround when Intrinio API key have expired"
   ]
  },
  {
   "cell_type": "markdown",
   "metadata": {},
   "source": [
    "This section is optional.\n",
    "\n",
    "When the given Intrinio API key expires, the above codes will fail to fetch from the server.\n",
    "As a temporary workaround, load the dataset from disk."
   ]
  },
  {
   "cell_type": "code",
   "execution_count": 5,
   "metadata": {},
   "outputs": [
    {
     "data": {
      "text/html": [
       "<div>\n",
       "<style scoped>\n",
       "    .dataframe tbody tr th:only-of-type {\n",
       "        vertical-align: middle;\n",
       "    }\n",
       "\n",
       "    .dataframe tbody tr th {\n",
       "        vertical-align: top;\n",
       "    }\n",
       "\n",
       "    .dataframe thead th {\n",
       "        text-align: right;\n",
       "    }\n",
       "</style>\n",
       "<table border=\"1\" class=\"dataframe\">\n",
       "  <thead>\n",
       "    <tr style=\"text-align: right;\">\n",
       "      <th></th>\n",
       "      <th>rsi</th>\n",
       "      <th>wr</th>\n",
       "      <th>vwap</th>\n",
       "      <th>adtv</th>\n",
       "      <th>ao</th>\n",
       "      <th>sma_5d</th>\n",
       "      <th>sma_15d</th>\n",
       "      <th>sma_30d</th>\n",
       "      <th>adj_close_price</th>\n",
       "    </tr>\n",
       "    <tr>\n",
       "      <th>date</th>\n",
       "      <th></th>\n",
       "      <th></th>\n",
       "      <th></th>\n",
       "      <th></th>\n",
       "      <th></th>\n",
       "      <th></th>\n",
       "      <th></th>\n",
       "      <th></th>\n",
       "      <th></th>\n",
       "    </tr>\n",
       "  </thead>\n",
       "  <tbody>\n",
       "    <tr>\n",
       "      <th>2018-12-28</th>\n",
       "      <td>35.88289</td>\n",
       "      <td>-62.894534</td>\n",
       "      <td>216.376505</td>\n",
       "      <td>4.693932e+07</td>\n",
       "      <td>-21.924007</td>\n",
       "      <td>153.422</td>\n",
       "      <td>161.806</td>\n",
       "      <td>171.163333</td>\n",
       "      <td>157.066371</td>\n",
       "    </tr>\n",
       "  </tbody>\n",
       "</table>\n",
       "</div>"
      ],
      "text/plain": [
       "                 rsi         wr        vwap          adtv         ao   sma_5d  \\\n",
       "date                                                                            \n",
       "2018-12-28  35.88289 -62.894534  216.376505  4.693932e+07 -21.924007  153.422   \n",
       "\n",
       "            sma_15d     sma_30d  adj_close_price  \n",
       "date                                              \n",
       "2018-12-28  161.806  171.163333       157.066371  "
      ]
     },
     "execution_count": 5,
     "metadata": {},
     "output_type": "execute_result"
    }
   ],
   "source": [
    "df = pd.read_pickle('files/chapter11/df_independent_2013_2018')\n",
    "df.head(1)"
   ]
  },
  {
   "cell_type": "code",
   "execution_count": 6,
   "metadata": {},
   "outputs": [
    {
     "data": {
      "text/html": [
       "<div>\n",
       "<style scoped>\n",
       "    .dataframe tbody tr th:only-of-type {\n",
       "        vertical-align: middle;\n",
       "    }\n",
       "\n",
       "    .dataframe tbody tr th {\n",
       "        vertical-align: top;\n",
       "    }\n",
       "\n",
       "    .dataframe thead th {\n",
       "        text-align: right;\n",
       "    }\n",
       "</style>\n",
       "<table border=\"1\" class=\"dataframe\">\n",
       "  <thead>\n",
       "    <tr style=\"text-align: right;\">\n",
       "      <th></th>\n",
       "      <th>adj_close_price</th>\n",
       "    </tr>\n",
       "    <tr>\n",
       "      <th>date</th>\n",
       "      <th></th>\n",
       "    </tr>\n",
       "  </thead>\n",
       "  <tbody>\n",
       "    <tr>\n",
       "      <th>2018-12-31</th>\n",
       "      <td>157.066371</td>\n",
       "    </tr>\n",
       "  </tbody>\n",
       "</table>\n",
       "</div>"
      ],
      "text/plain": [
       "            adj_close_price\n",
       "date                       \n",
       "2018-12-31       157.066371"
      ]
     },
     "execution_count": 6,
     "metadata": {},
     "output_type": "execute_result"
    }
   ],
   "source": [
    "df_close = pd.read_pickle('files/chapter11/df_aapl_2013_2018')\n",
    "df_close.head(1)"
   ]
  },
  {
   "cell_type": "markdown",
   "metadata": {},
   "source": [
    "## Splitting and scaling the data"
   ]
  },
  {
   "cell_type": "code",
   "execution_count": 8,
   "metadata": {},
   "outputs": [],
   "source": [
    "df_train = df['2017':'2013']\n",
    "df_test = df['2018']"
   ]
  },
  {
   "cell_type": "code",
   "execution_count": 9,
   "metadata": {},
   "outputs": [],
   "source": [
    "from sklearn.preprocessing import MinMaxScaler\n",
    "\n",
    "scaler = MinMaxScaler(feature_range=(-1, 1))\n",
    "train_data = scaler.fit_transform(df_train.values)\n",
    "test_data = scaler.transform(df_test.values)"
   ]
  },
  {
   "cell_type": "code",
   "execution_count": 10,
   "metadata": {},
   "outputs": [],
   "source": [
    "x_train = train_data[:, :-1]\n",
    "y_train = train_data[:, -1]"
   ]
  },
  {
   "cell_type": "code",
   "execution_count": 11,
   "metadata": {},
   "outputs": [],
   "source": [
    "x_test = test_data[:, :-1]"
   ]
  },
  {
   "cell_type": "markdown",
   "metadata": {},
   "source": [
    "## Building an artificial neural network with TensorFlow"
   ]
  },
  {
   "cell_type": "markdown",
   "metadata": {},
   "source": [
    "### Phase 1: Assembling the graph"
   ]
  },
  {
   "cell_type": "code",
   "execution_count": 12,
   "metadata": {},
   "outputs": [],
   "source": [
    "import tensorflow as tf\n",
    "\n",
    "num_features = x_train.shape[1]\n",
    "\n",
    "x = tf.placeholder(dtype=tf.float32, shape=[None, num_features])\n",
    "y = tf.placeholder(dtype=tf.float32, shape=[None])"
   ]
  },
  {
   "cell_type": "code",
   "execution_count": 13,
   "metadata": {},
   "outputs": [],
   "source": [
    "nl_1, nl_2, nl_3, nl_4 = 512, 256, 128, 64"
   ]
  },
  {
   "cell_type": "code",
   "execution_count": 14,
   "metadata": {},
   "outputs": [],
   "source": [
    "wi = tf.contrib.layers.variance_scaling_initializer(\n",
    "    mode='FAN_AVG', uniform=True, factor=1)\n",
    "zi = tf.zeros_initializer()"
   ]
  },
  {
   "cell_type": "code",
   "execution_count": 15,
   "metadata": {},
   "outputs": [],
   "source": [
    "# 4 Hidden layers\n",
    "wt_hidden_1 = tf.Variable(wi([num_features, nl_1]))\n",
    "bias_hidden_1 = tf.Variable(zi([nl_1]))\n",
    "\n",
    "wt_hidden_2 = tf.Variable(wi([nl_1, nl_2]))\n",
    "bias_hidden_2 = tf.Variable(zi([nl_2]))\n",
    "\n",
    "wt_hidden_3 = tf.Variable(wi([nl_2, nl_3]))\n",
    "bias_hidden_3 = tf.Variable(zi([nl_3]))\n",
    "\n",
    "wt_hidden_4 = tf.Variable(wi([nl_3, nl_4]))\n",
    "bias_hidden_4 = tf.Variable(zi([nl_4]))\n",
    "\n",
    "# Output layer\n",
    "wt_out = tf.Variable(wi([nl_4, 1]))\n",
    "bias_out = tf.Variable(zi([1]))"
   ]
  },
  {
   "cell_type": "code",
   "execution_count": 16,
   "metadata": {},
   "outputs": [],
   "source": [
    "hidden_1 = tf.nn.relu(\n",
    "    tf.add(tf.matmul(x, wt_hidden_1), bias_hidden_1))\n",
    "hidden_2 = tf.nn.relu(\n",
    "    tf.add(tf.matmul(hidden_1, wt_hidden_2), bias_hidden_2))\n",
    "hidden_3 = tf.nn.relu(\n",
    "    tf.add(tf.matmul(hidden_2, wt_hidden_3), bias_hidden_3))\n",
    "hidden_4 = tf.nn.relu(\n",
    "    tf.add(tf.matmul(hidden_3, wt_hidden_4), bias_hidden_4))\n",
    "out = tf.transpose(tf.add(tf.matmul(hidden_4, wt_out), bias_out))"
   ]
  },
  {
   "cell_type": "code",
   "execution_count": 17,
   "metadata": {},
   "outputs": [],
   "source": [
    "mse = tf.reduce_mean(tf.squared_difference(out, y)) "
   ]
  },
  {
   "cell_type": "code",
   "execution_count": 18,
   "metadata": {},
   "outputs": [],
   "source": [
    "optimizer = tf.train.AdamOptimizer().minimize(mse)"
   ]
  },
  {
   "cell_type": "markdown",
   "metadata": {},
   "source": [
    "## Phase 2: training our model"
   ]
  },
  {
   "cell_type": "code",
   "execution_count": 19,
   "metadata": {},
   "outputs": [],
   "source": [
    "session = tf.InteractiveSession()"
   ]
  },
  {
   "cell_type": "code",
   "execution_count": 20,
   "metadata": {},
   "outputs": [],
   "source": [
    "session.run(tf.global_variables_initializer())"
   ]
  },
  {
   "cell_type": "code",
   "execution_count": 21,
   "metadata": {},
   "outputs": [],
   "source": [
    "from numpy import arange\n",
    "from numpy.random import permutation\n",
    "\n",
    "BATCH_SIZE = 100\n",
    "EPOCHS = 100\n",
    "\n",
    "for epoch in range(EPOCHS):\n",
    "    # Shuffle the training data\n",
    "    shuffle_data = permutation(arange(len(y_train)))\n",
    "    x_train = x_train[shuffle_data]\n",
    "    y_train = y_train[shuffle_data]\n",
    "\n",
    "    # Mini-batch training\n",
    "    for i in range(len(y_train)//BATCH_SIZE):\n",
    "        start = i*BATCH_SIZE\n",
    "        batch_x = x_train[start:start+BATCH_SIZE]\n",
    "        batch_y = y_train[start:start+BATCH_SIZE]\n",
    "        session.run(optimizer, feed_dict={x: batch_x, y: batch_y})"
   ]
  },
  {
   "cell_type": "code",
   "execution_count": 22,
   "metadata": {},
   "outputs": [],
   "source": [
    "[predicted_values] = session.run(out, feed_dict={x: x_test})"
   ]
  },
  {
   "cell_type": "code",
   "execution_count": 23,
   "metadata": {},
   "outputs": [],
   "source": [
    "predicted_scaled_data = test_data.copy()\n",
    "predicted_scaled_data[:, -1] = predicted_values\n",
    "predicted_values = scaler.inverse_transform(predicted_scaled_data)"
   ]
  },
  {
   "cell_type": "code",
   "execution_count": 24,
   "metadata": {},
   "outputs": [],
   "source": [
    "predictions = predicted_values[:, -1][::-1]\n",
    "actual = df_close['2018']['adj_close_price'].values[::-1]"
   ]
  },
  {
   "cell_type": "code",
   "execution_count": 25,
   "metadata": {},
   "outputs": [
    {
     "data": {
      "image/png": "[encoded data removed]",
      "text/plain": [
       "<Figure size 864x576 with 1 Axes>"
      ]
     },
     "metadata": {},
     "output_type": "display_data"
    }
   ],
   "source": [
    "%matplotlib inline \n",
    "import matplotlib.pyplot as plt\n",
    "\n",
    "plt.figure(figsize=(12,8))\n",
    "plt.title('Actual and predicted prices of AAPL 2018')\n",
    "plt.plot(actual, label='Actual')\n",
    "plt.plot(predictions, linestyle='dotted', label='Predicted')\n",
    "plt.legend();"
   ]
  },
  {
   "cell_type": "markdown",
   "metadata": {},
   "source": [
    "# Credit card payment default prediction with Keras"
   ]
  },
  {
   "cell_type": "markdown",
   "metadata": {},
   "source": [
    "## Obtaining the dataset"
   ]
  },
  {
   "cell_type": "code",
   "execution_count": 80,
   "metadata": {},
   "outputs": [],
   "source": [
    "import pandas as pd\n",
    "\n",
    "df = pd.read_csv('files/chapter11/default_cc_clients.csv')"
   ]
  },
  {
   "cell_type": "code",
   "execution_count": 81,
   "metadata": {},
   "outputs": [
    {
     "name": "stdout",
     "output_type": "stream",
     "text": [
      "<class 'pandas.core.frame.DataFrame'>\n",
      "RangeIndex: 30000 entries, 0 to 29999\n",
      "Data columns (total 24 columns):\n",
      "LIMIT_BAL                     30000 non-null int64\n",
      "SEX                           30000 non-null int64\n",
      "EDUCATION                     30000 non-null int64\n",
      "MARRIAGE                      30000 non-null int64\n",
      "AGE                           30000 non-null int64\n",
      "PAY_0                         30000 non-null int64\n",
      "PAY_2                         30000 non-null int64\n",
      "PAY_3                         30000 non-null int64\n",
      "PAY_4                         30000 non-null int64\n",
      "PAY_5                         30000 non-null int64\n",
      "PAY_6                         30000 non-null int64\n",
      "BILL_AMT1                     30000 non-null int64\n",
      "BILL_AMT2                     30000 non-null int64\n",
      "BILL_AMT3                     30000 non-null int64\n",
      "BILL_AMT4                     30000 non-null int64\n",
      "BILL_AMT5                     30000 non-null int64\n",
      "BILL_AMT6                     30000 non-null int64\n",
      "PAY_AMT1                      30000 non-null int64\n",
      "PAY_AMT2                      30000 non-null int64\n",
      "PAY_AMT3                      30000 non-null int64\n",
      "PAY_AMT4                      30000 non-null int64\n",
      "PAY_AMT5                      30000 non-null int64\n",
      "PAY_AMT6                      30000 non-null int64\n",
      "default payment next month    30000 non-null int64\n",
      "dtypes: int64(24)\n",
      "memory usage: 5.5 MB\n"
     ]
    }
   ],
   "source": [
    "df.info()"
   ]
  },
  {
   "cell_type": "code",
   "execution_count": 52,
   "metadata": {},
   "outputs": [
    {
     "data": {
      "text/html": [
       "<div>\n",
       "<style scoped>\n",
       "    .dataframe tbody tr th:only-of-type {\n",
       "        vertical-align: middle;\n",
       "    }\n",
       "\n",
       "    .dataframe tbody tr th {\n",
       "        vertical-align: top;\n",
       "    }\n",
       "\n",
       "    .dataframe thead th {\n",
       "        text-align: right;\n",
       "    }\n",
       "</style>\n",
       "<table border=\"1\" class=\"dataframe\">\n",
       "  <thead>\n",
       "    <tr style=\"text-align: right;\">\n",
       "      <th></th>\n",
       "      <th>LIMIT_BAL</th>\n",
       "      <th>SEX</th>\n",
       "      <th>EDUCATION</th>\n",
       "      <th>MARRIAGE</th>\n",
       "      <th>AGE</th>\n",
       "      <th>PAY_0</th>\n",
       "      <th>PAY_2</th>\n",
       "      <th>PAY_3</th>\n",
       "      <th>PAY_4</th>\n",
       "      <th>PAY_5</th>\n",
       "      <th>...</th>\n",
       "      <th>BILL_AMT4</th>\n",
       "      <th>BILL_AMT5</th>\n",
       "      <th>BILL_AMT6</th>\n",
       "      <th>PAY_AMT1</th>\n",
       "      <th>PAY_AMT2</th>\n",
       "      <th>PAY_AMT3</th>\n",
       "      <th>PAY_AMT4</th>\n",
       "      <th>PAY_AMT5</th>\n",
       "      <th>PAY_AMT6</th>\n",
       "      <th>default payment next month</th>\n",
       "    </tr>\n",
       "  </thead>\n",
       "  <tbody>\n",
       "    <tr>\n",
       "      <th>0</th>\n",
       "      <td>20000</td>\n",
       "      <td>2</td>\n",
       "      <td>2</td>\n",
       "      <td>1</td>\n",
       "      <td>24</td>\n",
       "      <td>2</td>\n",
       "      <td>2</td>\n",
       "      <td>-1</td>\n",
       "      <td>-1</td>\n",
       "      <td>-2</td>\n",
       "      <td>...</td>\n",
       "      <td>0</td>\n",
       "      <td>0</td>\n",
       "      <td>0</td>\n",
       "      <td>0</td>\n",
       "      <td>689</td>\n",
       "      <td>0</td>\n",
       "      <td>0</td>\n",
       "      <td>0</td>\n",
       "      <td>0</td>\n",
       "      <td>1</td>\n",
       "    </tr>\n",
       "  </tbody>\n",
       "</table>\n",
       "<p>1 rows × 24 columns</p>\n",
       "</div>"
      ],
      "text/plain": [
       "   LIMIT_BAL  SEX  EDUCATION  MARRIAGE  AGE  PAY_0  PAY_2  PAY_3  PAY_4  \\\n",
       "0      20000    2          2         1   24      2      2     -1     -1   \n",
       "\n",
       "   PAY_5             ...              BILL_AMT4  BILL_AMT5  BILL_AMT6  \\\n",
       "0     -2             ...                      0          0          0   \n",
       "\n",
       "   PAY_AMT1  PAY_AMT2  PAY_AMT3  PAY_AMT4  PAY_AMT5  PAY_AMT6  \\\n",
       "0         0       689         0         0         0         0   \n",
       "\n",
       "   default payment next month  \n",
       "0                           1  \n",
       "\n",
       "[1 rows x 24 columns]"
      ]
     },
     "execution_count": 52,
     "metadata": {},
     "output_type": "execute_result"
    }
   ],
   "source": [
    "df.head(1)"
   ]
  },
  {
   "cell_type": "markdown",
   "metadata": {},
   "source": [
    "## Splitting and scaling the data"
   ]
  },
  {
   "cell_type": "code",
   "execution_count": 42,
   "metadata": {},
   "outputs": [],
   "source": [
    "feature_columns= df.columns[:-1]\n",
    "features = df.loc[:, feature_columns]\n",
    "target = df.loc[:, 'default payment next month']"
   ]
  },
  {
   "cell_type": "code",
   "execution_count": 43,
   "metadata": {},
   "outputs": [],
   "source": [
    "from sklearn.model_selection import train_test_split\n",
    "\n",
    "train_features, test_features, train_target, test_target = \\\n",
    "    train_test_split(features, target, test_size=0.20, random_state=0)"
   ]
  },
  {
   "cell_type": "code",
   "execution_count": 44,
   "metadata": {},
   "outputs": [],
   "source": [
    "import numpy as np\n",
    "\n",
    "train_x, train_y = np.array(train_features), np.array(train_target)\n",
    "test_x, test_y = np.array(test_features), np.array(test_target)"
   ]
  },
  {
   "cell_type": "code",
   "execution_count": 45,
   "metadata": {},
   "outputs": [
    {
     "name": "stderr",
     "output_type": "stream",
     "text": [
      "c:\\python3\\lib\\site-packages\\sklearn\\utils\\validation.py:595: DataConversionWarning: Data with input dtype int64 was converted to float64 by MinMaxScaler.\n",
      "  warnings.warn(msg, DataConversionWarning)\n"
     ]
    }
   ],
   "source": [
    "from sklearn.preprocessing import MinMaxScaler\n",
    "\n",
    "scaler = MinMaxScaler()\n",
    "train_scaled_x = scaler.fit_transform(train_x)\n",
    "test_scaled_x = scaler.transform(test_x)"
   ]
  },
  {
   "cell_type": "markdown",
   "metadata": {},
   "source": [
    "## Designing a deep neural network with 5 hidden layers using Keras"
   ]
  },
  {
   "cell_type": "code",
   "execution_count": 46,
   "metadata": {},
   "outputs": [
    {
     "name": "stderr",
     "output_type": "stream",
     "text": [
      "Using TensorFlow backend.\n"
     ]
    }
   ],
   "source": [
    "from keras.models import Sequential\n",
    "from keras.layers import Dense\n",
    "from keras.layers import Dropout\n",
    "from keras.layers.normalization import BatchNormalization\n",
    "\n",
    "num_features = train_scaled_x.shape[1]\n",
    "\n",
    "model = Sequential()\n",
    "model.add(Dense(80, input_dim=num_features, activation='relu'))\n",
    "model.add(Dropout(0.2))\n",
    "model.add(Dense(80, activation='relu'))\n",
    "model.add(Dropout(0.2))\n",
    "model.add(Dense(40, activation='relu'))\n",
    "model.add(BatchNormalization())\n",
    "model.add(Dense(1, activation='sigmoid'))"
   ]
  },
  {
   "cell_type": "code",
   "execution_count": 47,
   "metadata": {},
   "outputs": [
    {
     "name": "stdout",
     "output_type": "stream",
     "text": [
      "_________________________________________________________________\n",
      "Layer (type)                 Output Shape              Param #   \n",
      "=================================================================\n",
      "dense_1 (Dense)              (None, 80)                1920      \n",
      "_________________________________________________________________\n",
      "dropout_1 (Dropout)          (None, 80)                0         \n",
      "_________________________________________________________________\n",
      "dense_2 (Dense)              (None, 80)                6480      \n",
      "_________________________________________________________________\n",
      "dropout_2 (Dropout)          (None, 80)                0         \n",
      "_________________________________________________________________\n",
      "dense_3 (Dense)              (None, 40)                3240      \n",
      "_________________________________________________________________\n",
      "batch_normalization_1 (Batch (None, 40)                160       \n",
      "_________________________________________________________________\n",
      "dense_4 (Dense)              (None, 1)                 41        \n",
      "=================================================================\n",
      "Total params: 11,841\n",
      "Trainable params: 11,761\n",
      "Non-trainable params: 80\n",
      "_________________________________________________________________\n"
     ]
    }
   ],
   "source": [
    "model.summary()"
   ]
  },
  {
   "cell_type": "code",
   "execution_count": 48,
   "metadata": {},
   "outputs": [],
   "source": [
    "import tensorflow as tf\n",
    "\n",
    "model.compile(optimizer=tf.train.AdamOptimizer(), \n",
    "              loss='binary_crossentropy',\n",
    "              metrics=['accuracy'])"
   ]
  },
  {
   "cell_type": "code",
   "execution_count": 49,
   "metadata": {},
   "outputs": [
    {
     "name": "stdout",
     "output_type": "stream",
     "text": [
      "Train on 19200 samples, validate on 4800 samples\n",
      "Epoch 1/100\n",
      "19200/19200 [==============================] - 3s 160us/step - loss: 0.5077 - acc: 0.7770 - val_loss: 0.4662 - val_acc: 0.8033\n",
      "Epoch 2/100\n",
      "19200/19200 [==============================] - 2s 99us/step - loss: 0.4666 - acc: 0.8049 - val_loss: 0.4646 - val_acc: 0.8058\n",
      "Epoch 3/100\n",
      "19200/19200 [==============================] - 2s 106us/step - loss: 0.4579 - acc: 0.8076 - val_loss: 0.4626 - val_acc: 0.8040\n",
      "Epoch 4/100\n",
      "19200/19200 [==============================] - 2s 105us/step - loss: 0.4544 - acc: 0.8088 - val_loss: 0.4536 - val_acc: 0.8083\n",
      "Epoch 5/100\n",
      "19200/19200 [==============================] - 2s 115us/step - loss: 0.4527 - acc: 0.8116 - val_loss: 0.4531 - val_acc: 0.8067\n",
      "Epoch 6/100\n",
      "19200/19200 [==============================] - 2s 106us/step - loss: 0.4498 - acc: 0.8127 - val_loss: 0.4540 - val_acc: 0.8123\n",
      "Epoch 7/100\n",
      "19200/19200 [==============================] - 2s 123us/step - loss: 0.4474 - acc: 0.8133 - val_loss: 0.4513 - val_acc: 0.8137\n",
      "Epoch 8/100\n",
      "19200/19200 [==============================] - 2s 122us/step - loss: 0.4465 - acc: 0.8135 - val_loss: 0.4536 - val_acc: 0.8106\n",
      "Epoch 9/100\n",
      "19200/19200 [==============================] - 2s 118us/step - loss: 0.4449 - acc: 0.8145 - val_loss: 0.4490 - val_acc: 0.8096\n",
      "Epoch 10/100\n",
      "19200/19200 [==============================] - 2s 110us/step - loss: 0.4453 - acc: 0.8143 - val_loss: 0.4467 - val_acc: 0.8142\n",
      "Epoch 11/100\n",
      "19200/19200 [==============================] - 2s 107us/step - loss: 0.4425 - acc: 0.8149 - val_loss: 0.4513 - val_acc: 0.8117\n",
      "Epoch 12/100\n",
      "19200/19200 [==============================] - 2s 116us/step - loss: 0.4421 - acc: 0.8161 - val_loss: 0.4454 - val_acc: 0.8127\n",
      "Epoch 13/100\n",
      "19200/19200 [==============================] - 2s 108us/step - loss: 0.4400 - acc: 0.8155 - val_loss: 0.4483 - val_acc: 0.8081\n",
      "Epoch 14/100\n",
      "19200/19200 [==============================] - 2s 121us/step - loss: 0.4403 - acc: 0.8165 - val_loss: 0.4440 - val_acc: 0.8137\n",
      "Epoch 15/100\n",
      "19200/19200 [==============================] - 2s 115us/step - loss: 0.4395 - acc: 0.8172 - val_loss: 0.4471 - val_acc: 0.8121\n",
      "Epoch 16/100\n",
      "19200/19200 [==============================] - 3s 134us/step - loss: 0.4399 - acc: 0.8174 - val_loss: 0.4433 - val_acc: 0.8142\n",
      "Epoch 17/100\n",
      "19200/19200 [==============================] - 2s 120us/step - loss: 0.4375 - acc: 0.8171 - val_loss: 0.4464 - val_acc: 0.8131\n",
      "Epoch 18/100\n",
      "19200/19200 [==============================] - 3s 135us/step - loss: 0.4366 - acc: 0.8189 - val_loss: 0.4475 - val_acc: 0.8140\n",
      "Epoch 19/100\n",
      "19200/19200 [==============================] - 2s 119us/step - loss: 0.4374 - acc: 0.8178 - val_loss: 0.4520 - val_acc: 0.8119\n",
      "Epoch 20/100\n",
      "19200/19200 [==============================] - 2s 129us/step - loss: 0.4368 - acc: 0.8166 - val_loss: 0.4445 - val_acc: 0.8150\n",
      "Epoch 21/100\n",
      "19200/19200 [==============================] - 2s 121us/step - loss: 0.4360 - acc: 0.8174 - val_loss: 0.4395 - val_acc: 0.8156\n",
      "Epoch 22/100\n",
      "19200/19200 [==============================] - 2s 114us/step - loss: 0.4377 - acc: 0.8166 - val_loss: 0.4462 - val_acc: 0.8142\n",
      "Epoch 23/100\n",
      "19200/19200 [==============================] - 2s 112us/step - loss: 0.4363 - acc: 0.8170 - val_loss: 0.4436 - val_acc: 0.8140\n",
      "Epoch 24/100\n",
      "19200/19200 [==============================] - 2s 122us/step - loss: 0.4341 - acc: 0.8184 - val_loss: 0.4447 - val_acc: 0.8146\n",
      "Epoch 25/100\n",
      "19200/19200 [==============================] - 2s 112us/step - loss: 0.4357 - acc: 0.8174 - val_loss: 0.4491 - val_acc: 0.8113\n",
      "Epoch 26/100\n",
      "19200/19200 [==============================] - 2s 130us/step - loss: 0.4358 - acc: 0.8178 - val_loss: 0.4427 - val_acc: 0.8148\n",
      "Epoch 27/100\n",
      "19200/19200 [==============================] - 3s 131us/step - loss: 0.4358 - acc: 0.8189 - val_loss: 0.4401 - val_acc: 0.8165\n",
      "Epoch 28/100\n",
      "19200/19200 [==============================] - 2s 107us/step - loss: 0.4355 - acc: 0.8195 - val_loss: 0.4417 - val_acc: 0.8127\n",
      "Epoch 29/100\n",
      "19200/19200 [==============================] - 2s 100us/step - loss: 0.4348 - acc: 0.8170 - val_loss: 0.4419 - val_acc: 0.8158\n",
      "Epoch 30/100\n",
      "19200/19200 [==============================] - 2s 100us/step - loss: 0.4338 - acc: 0.8173 - val_loss: 0.4513 - val_acc: 0.8144\n",
      "Epoch 31/100\n",
      "19200/19200 [==============================] - 2s 104us/step - loss: 0.4329 - acc: 0.8185 - val_loss: 0.4449 - val_acc: 0.8150\n",
      "Epoch 32/100\n",
      "19200/19200 [==============================] - 2s 99us/step - loss: 0.4333 - acc: 0.8194 - val_loss: 0.4431 - val_acc: 0.8144\n",
      "Epoch 33/100\n",
      "19200/19200 [==============================] - 2s 103us/step - loss: 0.4329 - acc: 0.8203 - val_loss: 0.4402 - val_acc: 0.8158\n",
      "Epoch 34/100\n",
      "19200/19200 [==============================] - 2s 109us/step - loss: 0.4333 - acc: 0.8196 - val_loss: 0.4402 - val_acc: 0.8160\n",
      "Epoch 35/100\n",
      "19200/19200 [==============================] - 2s 101us/step - loss: 0.4329 - acc: 0.8207 - val_loss: 0.4455 - val_acc: 0.8133\n",
      "Epoch 36/100\n",
      "19200/19200 [==============================] - 2s 105us/step - loss: 0.4318 - acc: 0.8178 - val_loss: 0.4440 - val_acc: 0.8140\n",
      "Epoch 37/100\n",
      "19200/19200 [==============================] - 2s 115us/step - loss: 0.4313 - acc: 0.8192 - val_loss: 0.4488 - val_acc: 0.8117\n",
      "Epoch 38/100\n",
      "19200/19200 [==============================] - 2s 104us/step - loss: 0.4315 - acc: 0.8179 - val_loss: 0.4425 - val_acc: 0.8144\n",
      "Epoch 39/100\n",
      "19200/19200 [==============================] - 2s 113us/step - loss: 0.4310 - acc: 0.8208 - val_loss: 0.4420 - val_acc: 0.8152\n",
      "Epoch 40/100\n",
      "19200/19200 [==============================] - 2s 123us/step - loss: 0.4309 - acc: 0.8217 - val_loss: 0.4449 - val_acc: 0.8148\n",
      "Epoch 41/100\n",
      "19200/19200 [==============================] - 3s 167us/step - loss: 0.4325 - acc: 0.8185 - val_loss: 0.4436 - val_acc: 0.8150\n",
      "Epoch 42/100\n",
      "19200/19200 [==============================] - 2s 120us/step - loss: 0.4312 - acc: 0.8200 - val_loss: 0.4425 - val_acc: 0.8154\n",
      "Epoch 43/100\n",
      "19200/19200 [==============================] - 2s 113us/step - loss: 0.4318 - acc: 0.8195 - val_loss: 0.4448 - val_acc: 0.8133\n",
      "Epoch 44/100\n",
      "19200/19200 [==============================] - 2s 120us/step - loss: 0.4317 - acc: 0.8194 - val_loss: 0.4430 - val_acc: 0.8144\n",
      "Epoch 45/100\n",
      "19200/19200 [==============================] - 2s 126us/step - loss: 0.4297 - acc: 0.8203 - val_loss: 0.4418 - val_acc: 0.8148\n",
      "Epoch 46/100\n",
      "19200/19200 [==============================] - 3s 135us/step - loss: 0.4291 - acc: 0.8176 - val_loss: 0.4426 - val_acc: 0.8142\n",
      "Epoch 47/100\n",
      "19200/19200 [==============================] - 2s 126us/step - loss: 0.4305 - acc: 0.8190 - val_loss: 0.4412 - val_acc: 0.8108\n",
      "Epoch 48/100\n",
      "19200/19200 [==============================] - 3s 135us/step - loss: 0.4282 - acc: 0.8200 - val_loss: 0.4424 - val_acc: 0.8163\n",
      "Epoch 49/100\n",
      "19200/19200 [==============================] - 3s 135us/step - loss: 0.4288 - acc: 0.8214 - val_loss: 0.4414 - val_acc: 0.8125\n",
      "Epoch 50/100\n",
      "19200/19200 [==============================] - 3s 143us/step - loss: 0.4327 - acc: 0.8205 - val_loss: 0.4409 - val_acc: 0.8152\n",
      "Epoch 51/100\n",
      "19200/19200 [==============================] - 3s 138us/step - loss: 0.4283 - acc: 0.8215 - val_loss: 0.4428 - val_acc: 0.8137\n",
      "Epoch 52/100\n",
      "19200/19200 [==============================] - 3s 145us/step - loss: 0.4298 - acc: 0.8210 - val_loss: 0.4421 - val_acc: 0.8125\n",
      "Epoch 53/100\n",
      "19200/19200 [==============================] - 3s 149us/step - loss: 0.4291 - acc: 0.8202 - val_loss: 0.4420 - val_acc: 0.8133\n",
      "Epoch 54/100\n",
      "19200/19200 [==============================] - 3s 138us/step - loss: 0.4287 - acc: 0.8217 - val_loss: 0.4444 - val_acc: 0.8117\n",
      "Epoch 55/100\n",
      "19200/19200 [==============================] - 3s 135us/step - loss: 0.4287 - acc: 0.8183 - val_loss: 0.4435 - val_acc: 0.8154\n",
      "Epoch 56/100\n",
      "19200/19200 [==============================] - 3s 141us/step - loss: 0.4282 - acc: 0.8204 - val_loss: 0.4423 - val_acc: 0.8146\n",
      "Epoch 57/100\n",
      "19200/19200 [==============================] - 3s 134us/step - loss: 0.4299 - acc: 0.8196 - val_loss: 0.4444 - val_acc: 0.8144\n",
      "Epoch 58/100\n",
      "19200/19200 [==============================] - 2s 128us/step - loss: 0.4276 - acc: 0.8225 - val_loss: 0.4454 - val_acc: 0.8135\n",
      "Epoch 59/100\n",
      "19200/19200 [==============================] - 2s 118us/step - loss: 0.4253 - acc: 0.8226 - val_loss: 0.4412 - val_acc: 0.8152\n",
      "Epoch 60/100\n",
      "19200/19200 [==============================] - 2s 117us/step - loss: 0.4257 - acc: 0.8221 - val_loss: 0.4421 - val_acc: 0.8127\n",
      "Epoch 61/100\n",
      "19200/19200 [==============================] - 2s 125us/step - loss: 0.4267 - acc: 0.8220 - val_loss: 0.4452 - val_acc: 0.8121\n",
      "Epoch 62/100\n",
      "19200/19200 [==============================] - 2s 123us/step - loss: 0.4267 - acc: 0.8211 - val_loss: 0.4435 - val_acc: 0.8131\n",
      "Epoch 63/100\n",
      "19200/19200 [==============================] - 2s 122us/step - loss: 0.4261 - acc: 0.8210 - val_loss: 0.4418 - val_acc: 0.8140\n",
      "Epoch 64/100\n",
      "19200/19200 [==============================] - 2s 130us/step - loss: 0.4248 - acc: 0.8220 - val_loss: 0.4438 - val_acc: 0.8127\n",
      "Epoch 65/100\n",
      "19200/19200 [==============================] - 2s 122us/step - loss: 0.4258 - acc: 0.8207 - val_loss: 0.4427 - val_acc: 0.8140\n",
      "Epoch 66/100\n",
      "19200/19200 [==============================] - 2s 118us/step - loss: 0.4260 - acc: 0.8216 - val_loss: 0.4431 - val_acc: 0.8146\n",
      "Epoch 67/100\n",
      "19200/19200 [==============================] - 2s 129us/step - loss: 0.4243 - acc: 0.8221 - val_loss: 0.4409 - val_acc: 0.8154\n",
      "Epoch 68/100\n",
      "19200/19200 [==============================] - 2s 117us/step - loss: 0.4276 - acc: 0.8203 - val_loss: 0.4401 - val_acc: 0.8150\n",
      "Epoch 69/100\n",
      "19200/19200 [==============================] - 2s 114us/step - loss: 0.4272 - acc: 0.8189 - val_loss: 0.4433 - val_acc: 0.8133\n",
      "Epoch 70/100\n",
      "19200/19200 [==============================] - 2s 113us/step - loss: 0.4248 - acc: 0.8227 - val_loss: 0.4427 - val_acc: 0.8146\n",
      "Epoch 71/100\n",
      "19200/19200 [==============================] - 2s 107us/step - loss: 0.4255 - acc: 0.8222 - val_loss: 0.4423 - val_acc: 0.8146\n",
      "Epoch 72/100\n",
      "19200/19200 [==============================] - 2s 113us/step - loss: 0.4257 - acc: 0.8219 - val_loss: 0.4440 - val_acc: 0.8125\n",
      "Epoch 73/100\n",
      "19200/19200 [==============================] - 2s 108us/step - loss: 0.4267 - acc: 0.8210 - val_loss: 0.4445 - val_acc: 0.8140\n",
      "Epoch 74/100\n",
      "19200/19200 [==============================] - 2s 120us/step - loss: 0.4246 - acc: 0.8216 - val_loss: 0.4460 - val_acc: 0.8123\n",
      "Epoch 75/100\n",
      "19200/19200 [==============================] - 2s 115us/step - loss: 0.4251 - acc: 0.8208 - val_loss: 0.4453 - val_acc: 0.8094\n",
      "Epoch 76/100\n",
      "19200/19200 [==============================] - 3s 138us/step - loss: 0.4239 - acc: 0.8212 - val_loss: 0.4437 - val_acc: 0.8144\n",
      "Epoch 77/100\n",
      "19200/19200 [==============================] - 2s 119us/step - loss: 0.4254 - acc: 0.8196 - val_loss: 0.4407 - val_acc: 0.8160\n",
      "Epoch 78/100\n",
      "19200/19200 [==============================] - 2s 120us/step - loss: 0.4240 - acc: 0.8231 - val_loss: 0.4445 - val_acc: 0.8160\n",
      "Epoch 79/100\n",
      "19200/19200 [==============================] - 2s 114us/step - loss: 0.4242 - acc: 0.8242 - val_loss: 0.4476 - val_acc: 0.8158\n",
      "Epoch 80/100\n",
      "19200/19200 [==============================] - 2s 110us/step - loss: 0.4246 - acc: 0.8227 - val_loss: 0.4441 - val_acc: 0.8133\n",
      "Epoch 81/100\n",
      "19200/19200 [==============================] - 2s 109us/step - loss: 0.4248 - acc: 0.8209 - val_loss: 0.4455 - val_acc: 0.8150\n",
      "Epoch 82/100\n",
      "19200/19200 [==============================] - 2s 104us/step - loss: 0.4244 - acc: 0.8241 - val_loss: 0.4423 - val_acc: 0.8140\n",
      "Epoch 83/100\n",
      "19200/19200 [==============================] - 2s 103us/step - loss: 0.4238 - acc: 0.8225 - val_loss: 0.4433 - val_acc: 0.8144\n",
      "Epoch 84/100\n",
      "19200/19200 [==============================] - 2s 103us/step - loss: 0.4254 - acc: 0.8217 - val_loss: 0.4444 - val_acc: 0.8137\n",
      "Epoch 85/100\n",
      "19200/19200 [==============================] - 2s 105us/step - loss: 0.4215 - acc: 0.8240 - val_loss: 0.4450 - val_acc: 0.8121\n",
      "Epoch 86/100\n",
      "19200/19200 [==============================] - 2s 111us/step - loss: 0.4232 - acc: 0.8230 - val_loss: 0.4462 - val_acc: 0.8125\n",
      "Epoch 87/100\n",
      "19200/19200 [==============================] - 2s 107us/step - loss: 0.4245 - acc: 0.8223 - val_loss: 0.4433 - val_acc: 0.8148\n",
      "Epoch 88/100\n",
      "19200/19200 [==============================] - 2s 112us/step - loss: 0.4213 - acc: 0.8239 - val_loss: 0.4396 - val_acc: 0.8152\n",
      "Epoch 89/100\n",
      "19200/19200 [==============================] - 2s 105us/step - loss: 0.4218 - acc: 0.8253 - val_loss: 0.4433 - val_acc: 0.8154\n",
      "Epoch 90/100\n",
      "19200/19200 [==============================] - 2s 107us/step - loss: 0.4248 - acc: 0.8224 - val_loss: 0.4433 - val_acc: 0.8131\n",
      "Epoch 91/100\n",
      "19200/19200 [==============================] - 2s 116us/step - loss: 0.4232 - acc: 0.8220 - val_loss: 0.4452 - val_acc: 0.8140\n",
      "Epoch 92/100\n",
      "19200/19200 [==============================] - 2s 108us/step - loss: 0.4220 - acc: 0.8250 - val_loss: 0.4423 - val_acc: 0.8137\n",
      "Epoch 93/100\n",
      "19200/19200 [==============================] - 2s 112us/step - loss: 0.4221 - acc: 0.8221 - val_loss: 0.4456 - val_acc: 0.8150\n",
      "Epoch 94/100\n",
      "19200/19200 [==============================] - 2s 108us/step - loss: 0.4235 - acc: 0.8233 - val_loss: 0.4461 - val_acc: 0.8160\n",
      "Epoch 95/100\n",
      "19200/19200 [==============================] - 2s 113us/step - loss: 0.4205 - acc: 0.8245 - val_loss: 0.4459 - val_acc: 0.8150\n",
      "Epoch 96/100\n",
      "19200/19200 [==============================] - 2s 101us/step - loss: 0.4220 - acc: 0.8227 - val_loss: 0.4424 - val_acc: 0.8148\n",
      "Epoch 97/100\n",
      "19200/19200 [==============================] - 2s 101us/step - loss: 0.4216 - acc: 0.8226 - val_loss: 0.4421 - val_acc: 0.8127\n",
      "Epoch 98/100\n",
      "19200/19200 [==============================] - 2s 103us/step - loss: 0.4221 - acc: 0.8229 - val_loss: 0.4446 - val_acc: 0.8127\n",
      "Epoch 99/100\n",
      "19200/19200 [==============================] - 2s 102us/step - loss: 0.4212 - acc: 0.8226 - val_loss: 0.4437 - val_acc: 0.8133\n",
      "Epoch 100/100\n",
      "19200/19200 [==============================] - 2s 101us/step - loss: 0.4213 - acc: 0.8244 - val_loss: 0.4473 - val_acc: 0.8140\n"
     ]
    },
    {
     "data": {
      "text/plain": [
       "<keras.callbacks.History at 0x18a771e1a58>"
      ]
     },
     "execution_count": 49,
     "metadata": {},
     "output_type": "execute_result"
    }
   ],
   "source": [
    "from keras.callbacks import History \n",
    "\n",
    "callback_history = History()\n",
    "\n",
    "model.fit(\n",
    "    train_scaled_x, train_y,\n",
    "    validation_split=0.2,\n",
    "    epochs=100, \n",
    "    callbacks=[callback_history]\n",
    ")"
   ]
  },
  {
   "cell_type": "markdown",
   "metadata": {},
   "source": [
    "## Measuring the performance of our model"
   ]
  },
  {
   "cell_type": "code",
   "execution_count": 51,
   "metadata": {},
   "outputs": [
    {
     "name": "stdout",
     "output_type": "stream",
     "text": [
      "6000/6000 [==============================] - 0s 37us/step\n",
      "Test loss: 0.428537715912\n",
      "Test accuracy: 0.827\n"
     ]
    }
   ],
   "source": [
    "test_loss, test_acc = model.evaluate(test_scaled_x, test_y)\n",
    "print('Test loss:', test_loss)\n",
    "print('Test accuracy:', test_acc)"
   ]
  },
  {
   "cell_type": "markdown",
   "metadata": {},
   "source": [
    "### Running risk metrics"
   ]
  },
  {
   "cell_type": "code",
   "execution_count": 54,
   "metadata": {},
   "outputs": [],
   "source": [
    "predictions = model.predict(test_scaled_x)\n",
    "pred_values = predictions.round().ravel()"
   ]
  },
  {
   "cell_type": "code",
   "execution_count": 55,
   "metadata": {},
   "outputs": [],
   "source": [
    "from sklearn.metrics import confusion_matrix\n",
    "\n",
    "matrix = confusion_matrix(test_y, pred_values)"
   ]
  },
  {
   "cell_type": "code",
   "execution_count": 56,
   "metadata": {},
   "outputs": [
    {
     "data": {
      "image/png": "[encoded data removed]",
      "text/plain": [
       "<Figure size 864x576 with 2 Axes>"
      ]
     },
     "metadata": {},
     "output_type": "display_data"
    }
   ],
   "source": [
    "%matplotlib inline\n",
    "import seaborn as sns\n",
    "import matplotlib.pyplot as plt\n",
    "\n",
    "flags = ['No', 'Yes']\n",
    "plt.subplots(figsize=(12,8))\n",
    "sns.heatmap(matrix.T, square=True, annot=True, fmt='g', cbar=True, \n",
    "    cmap=plt.cm.Blues, xticklabels=flags, yticklabels=flags)\n",
    "plt.xlabel('Actual')\n",
    "plt.ylabel('Predicted')\n",
    "plt.title('Credit card payment default prediction');"
   ]
  },
  {
   "cell_type": "code",
   "execution_count": 58,
   "metadata": {},
   "outputs": [
    {
     "name": "stdout",
     "output_type": "stream",
     "text": [
      "accuracy_score: 0.827\n",
      "precision_score: 0.669281045752\n",
      "recall_score: 0.394757131843\n",
      "f1_score: 0.496605237633\n"
     ]
    }
   ],
   "source": [
    "from sklearn.metrics import (\n",
    "    accuracy_score, precision_score, recall_score, f1_score\n",
    ")\n",
    "actual, predicted = test_y, pred_values\n",
    "print('accuracy_score:', accuracy_score(actual, predicted))\n",
    "print('precision_score:', precision_score(actual, predicted))\n",
    "print('recall_score:', recall_score(actual, predicted))\n",
    "print('f1_score:', f1_score(actual, predicted))    "
   ]
  },
  {
   "cell_type": "markdown",
   "metadata": {},
   "source": [
    "### Displaying recorded events in Keras History"
   ]
  },
  {
   "cell_type": "code",
   "execution_count": 59,
   "metadata": {},
   "outputs": [],
   "source": [
    "train_acc = callback_history.history['acc']\n",
    "val_acc = callback_history.history['val_acc']\n",
    "train_loss = callback_history.history['loss']\n",
    "val_loss = callback_history.history['val_loss']"
   ]
  },
  {
   "cell_type": "code",
   "execution_count": 60,
   "metadata": {},
   "outputs": [
    {
     "data": {
      "image/png": "[encoded data removed]",
      "text/plain": [
       "<Figure size 864x432 with 1 Axes>"
      ]
     },
     "metadata": {},
     "output_type": "display_data"
    }
   ],
   "source": [
    "%matplotlib inline\n",
    "import matplotlib.pyplot as plt\n",
    "\n",
    "epochs = range(1, len(train_acc)+1)\n",
    "\n",
    "plt.figure(figsize=(12,6))\n",
    "plt.plot(epochs, train_loss, label='Training')\n",
    "plt.plot(epochs, val_loss, '--', label='Validation')\n",
    "plt.title('Training and validation loss')\n",
    "plt.xlabel('epochs')\n",
    "plt.ylabel('loss')\n",
    "plt.legend();"
   ]
  },
  {
   "cell_type": "code",
   "execution_count": 62,
   "metadata": {},
   "outputs": [
    {
     "data": {
      "text/plain": [
       "<Figure size 432x288 with 0 Axes>"
      ]
     },
     "metadata": {},
     "output_type": "display_data"
    },
    {
     "data": {
      "image/png": "[encoded data removed]",
      "text/plain": [
       "<Figure size 864x432 with 1 Axes>"
      ]
     },
     "metadata": {},
     "output_type": "display_data"
    }
   ],
   "source": [
    "plt.clf()  # Clear the figure\n",
    "plt.figure(figsize=(12,6))\n",
    "plt.plot(epochs, train_acc, '-', label='Training')\n",
    "plt.plot(epochs, val_acc, '--', label='Validation')\n",
    "plt.title('Training and validation accuracy')\n",
    "plt.xlabel('epochs')\n",
    "plt.ylabel('accuracy')\n",
    "plt.legend();"
   ]
  }
 ],
 "metadata": {
  "kernelspec": {
   "display_name": "Python 3",
   "language": "python",
   "name": "python3"
  },
  "language_info": {
   "codemirror_mode": {
    "name": "ipython",
    "version": 3
   },
   "file_extension": ".py",
   "mimetype": "text/x-python",
   "name": "python",
   "nbconvert_exporter": "python",
   "pygments_lexer": "ipython3",
   "version": "3.6.2"
  }
 },
 "nbformat": 4,
 "nbformat_minor": 2
}
